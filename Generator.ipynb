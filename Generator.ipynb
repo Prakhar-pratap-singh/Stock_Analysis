{
 "cells": [
  {
   "cell_type": "markdown",
   "metadata": {},
   "source": [
    "## Stock Market Analysis"
   ]
  },
  {
   "cell_type": "markdown",
   "metadata": {},
   "source": [
    "In this notebook, we will discover and explore data from the stock market, particularly some dead stocks. We will see how to use UpstoxApi by [Upstox](https://upstox.com/) to get stock historical data, for 1 min chart(open, high, low, close) and export it into CSV format"
   ]
  },
  {
   "cell_type": "markdown",
   "metadata": {},
   "source": [
    "### Getting the Instrument details"
   ]
  },
  {
   "cell_type": "markdown",
   "metadata": {},
   "source": [
    "* instrument_key\t-->\tThe unique identifier used across Upstox APIs for instrument identification.\n",
    "* exchange_token\t-->\tThe numerical identifier issued by the exchange representing the instrument.\n",
    "* tradingsymbol\t    -->\tShows the trading symbol which could be a combination of symbol name, instrument, expiry date etc.\n",
    "* name\t            -->\tName of the company (for equity instruments).\n",
    "* last_price\t    -->\tLast traded price.\n",
    "* expiry\t        -->\tExpiry date (for derivatives). Data format is yyyy-MM-dd\n",
    "* strike\t        -->\tIndicates the predetermined price at which an option can be bought or sold when it's exercised.\n",
    "* tick_size\t        -->\tMeasure of the minimum upward or downward movement in the price of an instrument.\n",
    "* lot_size\t        -->\tMinimum size in which the stock futures or index futures can be traded.\n",
    "* instrument_type\t-->\tInstrument type of a particular contract. Possible values: FUTSTK, OPTSTK, OPTIDX etc.\n",
    "* option_type\t    -->\tOption type of the option contracts (applicable only for options contract). Possible values: CE, PE\n",
    "* exchange\t        -->\tExchange to which the order is associated.Possible values: NSE_EQ, NSE_FO, NCD_FO, NSE_INDEX, BSE_EQ, BSE_FO, BCD_FO, BSE_INDEX, MCX_FO, NSE_COM etc."
   ]
  },
  {
   "cell_type": "code",
   "execution_count": 13,
   "metadata": {},
   "outputs": [
    {
     "name": "stdout",
     "output_type": "stream",
     "text": [
      "[\n",
      "   {\n",
      "      \"segment\": \"NSE_EQ\",\n",
      "      \"name\": \"AHLADA ENGINEERS LIMITED\",\n",
      "      \"exchange\": \"NSE\",\n",
      "      \"isin\": \"INE00PV01013\",\n",
      "      \"instrument_type\": \"EQ\",\n",
      "      \"instrument_key\": \"NSE_EQ|INE00PV01013\",\n",
      "      \"lot_size\": 1,\n",
      "      \"freeze_quantity\": 100000.0,\n",
      "      \"exchange_token\": \"2004\",\n",
      "      \"tick_size\": 1.0,\n",
      "      \"trading_symbol\": \"AHLADA\",\n",
      "      \"short_name\": \"Ahlada Engineers\",\n",
      "      \"qty_multiplier\": 1.0,\n",
      "      \"security_type\": \"NORMAL\"\n",
      "   }\n",
      "]\n",
      "NSE_EQ|INE00PV01013\n"
     ]
    }
   ],
   "source": [
    "import gzip\n",
    "import json\n",
    "\n",
    "# Path to the compressed JSON file\n",
    "file_path = \"NSE.json.gz\"\n",
    "\n",
    "# Function to extract and read JSON data\n",
    "def extract_json_data(file_path):\n",
    "    with gzip.open(file_path, 'rt', encoding='utf-8') as file:\n",
    "        data = json.load(file)\n",
    "    return data\n",
    "\n",
    "# Extract data\n",
    "data = extract_json_data(file_path)\n",
    "\n",
    "# Function to filter by segment\n",
    "def filter_by_segment(data, segment=None, name=None, instrument_type=None, \n",
    "                      instrument_key=None, exchange_token=None, trading_symbol=None):\n",
    "    \n",
    "    filtered_data = []\n",
    "    for item in data:\n",
    "        if (\n",
    "            (segment is None or item.get(\"segment\") == segment)\n",
    "            and (name is None or item.get(\"name\") == name)\n",
    "            and (instrument_type is None or item.get(\"instrument_type\") == instrument_type)\n",
    "            and (instrument_key is None or item.get(\"instrument_key\") == instrument_key)\n",
    "            and (exchange_token is None or item.get(\"exchange_token\") == exchange_token)\n",
    "            and (trading_symbol is None or item.get(\"trading_symbol\") == trading_symbol)\n",
    "        ):\n",
    "            filtered_data.append(item)\n",
    "\n",
    "    return filtered_data\n",
    "\n",
    "# Example: Filter for 'NSE_EQ' segment\n",
    "filteredTicker = filter_by_segment(data, \"NSE_EQ\", \"AHLADA ENGINEERS LIMITED\" , \"EQ\", None, None, None)\n",
    "\n",
    "# Print the records from the filtered data\n",
    "print(json.dumps(filteredTicker, indent=3))\n",
    "\n",
    "instrument_key = filteredTicker[0][\"instrument_key\"]\n",
    "print(instrument_key)"
   ]
  },
  {
   "cell_type": "markdown",
   "metadata": {},
   "source": [
    "### Importing Flask to set up our server"
   ]
  },
  {
   "cell_type": "code",
   "execution_count": 4,
   "metadata": {},
   "outputs": [
    {
     "name": "stdout",
     "output_type": "stream",
     "text": [
      " * Serving Flask app '__main__'\n",
      " * Debug mode: on\n"
     ]
    },
    {
     "name": "stderr",
     "output_type": "stream",
     "text": [
      "WARNING: This is a development server. Do not use it in a production deployment. Use a production WSGI server instead.\n",
      " * Running on http://127.0.0.1:5000\n",
      "Press CTRL+C to quit\n"
     ]
    }
   ],
   "source": [
    "import requests\n",
    "import threading\n",
    "from flask import Flask, request, jsonify, redirect, session\n",
    "\n",
    "# Flask App\n",
    "app = Flask(__name__)   \n",
    "app.secret_key = \"2356\"\n",
    "\n",
    "ACCESS_TOKEN = None\n",
    "\n",
    "@app.route('/')\n",
    "def login():\n",
    "    return redirect(\"https://api.upstox.com/v2/login/authorization/dialog?response_type=code&client_id=a0126484-b118-4b8a-b26c-9c85566d4d2f&redirect_uri=http://127.0.0.1:5000/callback&state=xyz\")\n",
    "\n",
    "@app.route('/callback')\n",
    "def callback():\n",
    "    global ACCESS_TOKEN\n",
    "\n",
    "    code = request.args.get(\"code\")\n",
    "    if not code:\n",
    "        return \"Authorization failed\", 400\n",
    "\n",
    "    payload = {\n",
    "        \"code\": code,\n",
    "        \"client_id\": \"a0126484-b118-4b8a-b26c-9c85566d4d2f\",\n",
    "        \"client_secret\": \"jm4hqianzp\",\n",
    "        \"redirect_uri\": \"http://127.0.0.1:5000/callback\",\n",
    "        \"grant_type\": \"authorization_code\",\n",
    "    }\n",
    "    response = requests.post(\"https://api.upstox.com/v2/login/authorization/token\", data=payload)\n",
    "\n",
    "    try:\n",
    "        data = response.json()\n",
    "        if \"access_token\" not in data:\n",
    "            return jsonify({\"error\": data}), 400\n",
    "\n",
    "        ACCESS_TOKEN = data[\"access_token\"]  # Store in a global variable\n",
    "        session[\"access_token\"] = ACCESS_TOKEN\n",
    "        return redirect(\"/profile\")\n",
    "    \n",
    "    except requests.exceptions.JSONDecodeError:\n",
    "        return \"Failed to decode data response from Upstox\", 500\n",
    "\n",
    "@app.route('/profile')\n",
    "def profile():\n",
    "    if \"access_token\" not in session:\n",
    "        return redirect(\"/\")\n",
    "    \n",
    "    headers = {\"Authorization\": f\"Bearer {session['access_token']}\"}\n",
    "    response = requests.get(\"https://api.upstox.com/v2/user/profile\", headers=headers)\n",
    "\n",
    "    try:\n",
    "        return jsonify(response.json())\n",
    "    except requests.exceptions.JSONDecodeError:\n",
    "        return \"Failed to decode profile response\", 500\n",
    "\n",
    "# Run Flask in a background thread (if inside Jupyter)\n",
    "def run_flask():\n",
    "    app.run(debug=True, use_reloader=False)\n",
    "\n",
    "threading.Thread(target=run_flask).start()"
   ]
  },
  {
   "cell_type": "markdown",
   "metadata": {},
   "source": [
    "### Making function to request data from the upstox server"
   ]
  },
  {
   "cell_type": "code",
   "execution_count": 6,
   "metadata": {},
   "outputs": [],
   "source": [
    "def make_request(method, url, header=None):\n",
    "    response = None\n",
    "    try:\n",
    "        if method == 'GET':\n",
    "            request = requests.get(url, headers=header)\n",
    "        else:\n",
    "            raise ValueError(\"Not Valid HTTP Method\")\n",
    "        \n",
    "        if request.status_code == 200:\n",
    "            return request.json()   \n",
    "        else:\n",
    "            return response\n",
    "    except request.exceptions.RequestException as e:\n",
    "        print(f'Error : {e}')\n",
    "        return None"
   ]
  },
  {
   "cell_type": "markdown",
   "metadata": {},
   "source": [
    "### Requesting Data"
   ]
  },
  {
   "cell_type": "code",
   "execution_count": null,
   "metadata": {},
   "outputs": [
    {
     "name": "stdout",
     "output_type": "stream",
     "text": [
      "{'status': 'success', 'data': {'candles': [['2025-02-07T15:15:00+05:30', 86.11, 86.89, 86.11, 86.89, 292, 0], ['2025-02-07T14:45:00+05:30', 86.7, 86.89, 86, 86.11, 686, 0], ['2025-02-07T14:15:00+05:30', 86.42, 86.7, 86.42, 86.7, 546, 0], ['2025-02-07T13:45:00+05:30', 87.53, 87.53, 86.42, 86.42, 2623, 0], ['2025-02-07T13:15:00+05:30', 87.51, 87.53, 87.51, 87.53, 3, 0], ['2025-02-07T12:45:00+05:30', 87.21, 87.52, 87.21, 87.51, 53, 0], ['2025-02-07T12:15:00+05:30', 87.32, 87.32, 87.15, 87.21, 431, 0], ['2025-02-07T11:45:00+05:30', 88.13, 88.13, 87.21, 87.32, 1360, 0], ['2025-02-07T11:15:00+05:30', 88.2, 88.74, 88.13, 88.13, 733, 0], ['2025-02-07T10:45:00+05:30', 88.2, 88.69, 88.2, 88.2, 258, 0], ['2025-02-07T10:15:00+05:30', 88.21, 88.21, 88.19, 88.2, 100, 0], ['2025-02-07T09:45:00+05:30', 88.86, 88.86, 88.21, 88.21, 180, 0], ['2025-02-07T09:15:00+05:30', 89.01, 89.19, 88.21, 88.86, 868, 0]]}}\n"
     ]
    }
   ],
   "source": [
    "interval= \"1minute\"\n",
    "from_date = \"2025-02-07\"\n",
    "to_date = \"2025-02-07\"\n",
    "\n",
    "url = f\"https://api.upstox.com/v2/historical-candle/{instrument_key}/{interval}/{to_date}/{from_date}\"\n",
    "\n",
    "header = {\n",
    "    'accept': 'application/json',\n",
    "    'Authorization': f'Bearer {ACCESS_TOKEN}'\n",
    "    }\n",
    "\n",
    "response = make_request('GET', url, header=header)  \n",
    "print(response)"
   ]
  },
  {
   "cell_type": "markdown",
   "metadata": {},
   "source": [
    "### Importing Pandas to filter/format the data"
   ]
  },
  {
   "cell_type": "code",
   "execution_count": 18,
   "metadata": {},
   "outputs": [
    {
     "name": "stdout",
     "output_type": "stream",
     "text": [
      "  timestamp   open   high    low  close  volume\n",
      "0     15:15  86.11  86.89  86.11  86.89     292\n",
      "1     14:45  86.70  86.89  86.00  86.11     686\n",
      "2     14:15  86.42  86.70  86.42  86.70     546\n",
      "3     13:45  87.53  87.53  86.42  86.42    2623\n",
      "4     13:15  87.51  87.53  87.51  87.53       3\n"
     ]
    }
   ],
   "source": [
    "import pandas as pd\n",
    "\n",
    "# Extract candle data if response is valid\n",
    "candles = response.get(\"data\", {}).get(\"candles\", [])\n",
    "\n",
    "if candles:\n",
    "    # Define column names dynamically\n",
    "    required_columns = [\"timestamp\", \"open\", \"high\", \"low\", \"close\", \"volume\"]\n",
    "    \n",
    "    # Create DataFrame\n",
    "    df = pd.DataFrame([candle[:6] for candle in candles], columns=required_columns)\n",
    "    \n",
    "    # Convert timestamp to datetime\n",
    "    df[\"timestamp\"] = pd.to_datetime(df[\"timestamp\"]).dt.strftime(\"%H:%M\")\n",
    "    \n",
    "    # Display first 5 rows\n",
    "    print(df.head())"
   ]
  },
  {
   "cell_type": "markdown",
   "metadata": {},
   "source": [
    "### Extracting the data in CSV file"
   ]
  },
  {
   "cell_type": "code",
   "execution_count": 16,
   "metadata": {},
   "outputs": [],
   "source": [
    "df.to_csv(\"AHLADA ENGINEERS LIMITED.csv\", index=False)"
   ]
  },
  {
   "cell_type": "markdown",
   "metadata": {},
   "source": [
    "## Conclusion"
   ]
  },
  {
   "cell_type": "markdown",
   "metadata": {},
   "source": [
    "This Projects illustrates the working example of an API where the data is fetched from Upstox using it's API using Flask. The data includes the historical candle chart for 1 minute timeframe. Which is then formated and cleaned using Pandas and then extracted into Csv format."
   ]
  }
 ],
 "metadata": {
  "kernelspec": {
   "display_name": "venv",
   "language": "python",
   "name": "python3"
  },
  "language_info": {
   "codemirror_mode": {
    "name": "ipython",
    "version": 3
   },
   "file_extension": ".py",
   "mimetype": "text/x-python",
   "name": "python",
   "nbconvert_exporter": "python",
   "pygments_lexer": "ipython3",
   "version": "3.12.2"
  }
 },
 "nbformat": 4,
 "nbformat_minor": 2
}
